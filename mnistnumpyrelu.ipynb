{
  "nbformat": 4,
  "nbformat_minor": 0,
  "metadata": {
    "colab": {
      "provenance": []
    },
    "kernelspec": {
      "name": "python3",
      "display_name": "Python 3"
    },
    "language_info": {
      "name": "python"
    }
  },
  "cells": [
    {
      "cell_type": "code",
      "execution_count": 1,
      "metadata": {
        "id": "BFWPQj3Fgl9d"
      },
      "outputs": [],
      "source": [
        "import numpy as np\n",
        "import matplotlib.pyplot\n",
        "%matplotlib inline\n",
        "import time"
      ]
    },
    {
      "cell_type": "code",
      "source": [
        "def convert(imgs, labels, outfile, n):\n",
        "    imgf = open(imgs, \"rb\")\n",
        "    csvf = open(outfile, \"w\")\n",
        "    labelf = open(labels, \"rb\")\n",
        "\n",
        "    imgf.read(16)\n",
        "    labelf.read(8)\n",
        "    images = []\n",
        "\n",
        "    for i in range(n):\n",
        "        image = [ord(labelf.read(1))]\n",
        "        for j in range(28*28):\n",
        "            image.append(ord(imgf.read(1)))\n",
        "        images.append(image)\n",
        "\n",
        "    for image in images:\n",
        "        csvf.write(\",\".join(str(pix) for pix in image)+\"\\n\")\n",
        "    imgf.close()\n",
        "    csvf.close()\n",
        "    labelf.close()"
      ],
      "metadata": {
        "id": "js-KnBG3x5LP"
      },
      "execution_count": null,
      "outputs": []
    },
    {
      "cell_type": "code",
      "source": [
        "mnist_train_x = \"/content/drive/MyDrive/mnist/train-images.idx3-ubyte\"\n",
        "mnist_train_y = \"/content/drive/MyDrive/mnist/train-labels.idx1-ubyte\"\n",
        "mnist_test_x = \"/content/drive/MyDrive/mnist/t10k-images.idx3-ubyte\"\n",
        "mnist_test_y = \"/content/drive/MyDrive/mnist/t10k-labels.idx1-ubyte\""
      ],
      "metadata": {
        "id": "43nHXOhCg2YI"
      },
      "execution_count": 2,
      "outputs": []
    },
    {
      "cell_type": "code",
      "source": [
        "convert(mnist_train_x, mnist_train_y, \"/content/drive/MyDrive/mnist/train.csv\", 60000)\n",
        "convert(mnist_test_x, mnist_test_y, \"/content/drive/MyDrive/mnist/test.csv\", 10000)"
      ],
      "metadata": {
        "id": "FWhx_7gfx9L0"
      },
      "execution_count": null,
      "outputs": []
    },
    {
      "cell_type": "code",
      "source": [
        "train_file = open(\"/content/drive/MyDrive/mnist/train.csv\", \"r\")\n",
        "train_list = train_file.readlines()\n",
        "train_file.close()\n",
        "print(len(train_list))"
      ],
      "metadata": {
        "colab": {
          "base_uri": "https://localhost:8080/"
        },
        "id": "Ie61EYQZg-9t",
        "outputId": "2dfc0b91-4605-4d16-d2b6-fca182960bb5"
      },
      "execution_count": 3,
      "outputs": [
        {
          "output_type": "stream",
          "name": "stdout",
          "text": [
            "60000\n"
          ]
        }
      ]
    },
    {
      "cell_type": "code",
      "source": [
        "train_list[4]"
      ],
      "metadata": {
        "colab": {
          "base_uri": "https://localhost:8080/",
          "height": 174
        },
        "id": "wLodA5TJhEym",
        "outputId": "fca685e0-2de3-4d7b-8661-89a75cae8d8c"
      },
      "execution_count": 5,
      "outputs": [
        {
          "output_type": "execute_result",
          "data": {
            "text/plain": [
              "'9,0,0,0,0,0,0,0,0,0,0,0,0,0,0,0,0,0,0,0,0,0,0,0,0,0,0,0,0,0,0,0,0,0,0,0,0,0,0,0,0,0,0,0,0,0,0,0,0,0,0,0,0,0,0,0,0,0,0,0,0,0,0,0,0,0,0,0,0,0,0,0,0,0,0,0,0,0,0,0,0,0,0,0,0,0,0,0,0,0,0,0,0,0,0,0,0,0,0,0,0,0,0,0,0,0,0,0,0,0,0,0,0,0,0,0,0,0,0,0,0,0,0,0,0,0,0,0,0,0,0,0,0,0,0,0,0,0,0,0,0,0,0,0,0,0,0,0,0,0,0,0,0,0,0,0,0,0,0,0,0,0,0,0,0,0,0,0,0,0,0,0,0,0,0,0,0,0,0,0,0,0,0,0,0,0,0,0,0,0,0,0,0,0,0,0,0,0,0,0,0,0,0,0,0,0,0,0,0,55,148,210,253,253,113,87,148,55,0,0,0,0,0,0,0,0,0,0,0,0,0,0,0,0,0,0,87,232,252,253,189,210,252,252,253,168,0,0,0,0,0,0,0,0,0,0,0,0,0,0,0,0,4,57,242,252,190,65,5,12,182,252,253,116,0,0,0,0,0,0,0,0,0,0,0,0,0,0,0,0,96,252,252,183,14,0,0,92,252,252,225,21,0,0,0,0,0,0,0,0,0,0,0,0,0,0,0,132,253,252,146,14,0,0,0,215,252,252,79,0,0,0,0,0,0,0,0,0,0,0,0,0,0,0,126,253,247,176,9,0,0,8,78,245,253,129,0,0,0,0,0,0,0,0,0,0,0,0,0,0,0,16,232,252,176,0,0,0,36,201,252,252,169,11,0,0,0,0,0,0,0,0,0,0,0,0,0,0,0,22,252,252,30,22,119,197,241,253,252,251,77,0,0,0,0,0,0,0,0,0,0,0,0,0,0,0,0,16,231,252,253,252,252,252,226,227,252,231,0,0,0,0,0,0,0,0,0,0,0,0,0,0,0,0,0,0,55,235,253,217,138,42,24,192,252,143,0,0,0,0,0,0,0,0,0,0,0,0,0,0,0,0,0,0,0,0,0,0,0,0,62,255,253,109,0,0,0,0,0,0,0,0,0,0,0,0,0,0,0,0,0,0,0,0,0,0,0,0,71,253,252,21,0,0,0,0,0,0,0,0,0,0,0,0,0,0,0,0,0,0,0,0,0,0,0,0,0,253,252,21,0,0,0,0,0,0,0,0,0,0,0,0,0,0,0,0,0,0,0,0,0,0,0,0,71,253,252,21,0,0,0,0,0,0,0,0,0,0,0,0,0,0,0,0,0,0,0,0,0,0,0,0,106,253,252,21,0,0,0,0,0,0,0,0,0,0,0,0,0,0,0,0,0,0,0,0,0,0,0,0,45,255,253,21,0,0,0,0,0,0,0,0,0,0,0,0,0,0,0,0,0,0,0,0,0,0,0,0,0,218,252,56,0,0,0,0,0,0,0,0,0,0,0,0,0,0,0,0,0,0,0,0,0,0,0,0,0,96,252,189,42,0,0,0,0,0,0,0,0,0,0,0,0,0,0,0,0,0,0,0,0,0,0,0,0,14,184,252,170,11,0,0,0,0,0,0,0,0,0,0,0,0,0,0,0,0,0,0,0,0,0,0,0,0,14,147,252,42,0,0,0,0,0,0,0,0,0,0,0,0,0,0,0,0,0,0,0,0,0,0,0,0,0,0,0,0,0,0,0,0,0,0,0,0,0\\n'"
            ],
            "application/vnd.google.colaboratory.intrinsic+json": {
              "type": "string"
            }
          },
          "metadata": {},
          "execution_count": 5
        }
      ]
    },
    {
      "cell_type": "code",
      "source": [
        "values = train_list[4].split(\",\")\n",
        "image_array = np.asfarray(values [1:]).reshape ((28,28))\n",
        "matplotlib.pyplot.imshow(image_array, cmap=\"Greys\", interpolation=\"None\")"
      ],
      "metadata": {
        "colab": {
          "base_uri": "https://localhost:8080/",
          "height": 447
        },
        "id": "Hp4MdulGhLFP",
        "outputId": "1f44f9c9-28aa-4cbd-dd12-f33797c45bca"
      },
      "execution_count": 7,
      "outputs": [
        {
          "output_type": "execute_result",
          "data": {
            "text/plain": [
              "<matplotlib.image.AxesImage at 0x7e3852713010>"
            ]
          },
          "metadata": {},
          "execution_count": 7
        },
        {
          "output_type": "display_data",
          "data": {
            "text/plain": [
              "<Figure size 640x480 with 1 Axes>"
            ],
            "image/png": "[encoded data removed]"
          },
          "metadata": {}
        }
      ]
    },
    {
      "cell_type": "code",
      "source": [
        "test_file = open(\"/content/drive/MyDrive/mnist/test.csv\", \"r\")\n",
        "test_list = test_file.readlines()\n",
        "test_file.close()\n",
        "print(len(test_list))"
      ],
      "metadata": {
        "colab": {
          "base_uri": "https://localhost:8080/"
        },
        "id": "KjRDy8mvhQvT",
        "outputId": "7335b2e3-7ab9-4fe9-de93-3fa454e7abaa"
      },
      "execution_count": 8,
      "outputs": [
        {
          "output_type": "stream",
          "name": "stdout",
          "text": [
            "10000\n"
          ]
        }
      ]
    },
    {
      "cell_type": "code",
      "source": [
        "class DNN:\n",
        "  def __init__(self, sizes=[784, 128, 64, 10], epochs=30, lr=0.001):\n",
        "    self.sizes= sizes\n",
        "    self.epochs=epochs\n",
        "    self.lr= lr\n",
        "\n",
        "    input_layer = sizes[0]\n",
        "    hidden_1 = sizes[1]\n",
        "    hidden_2 = sizes[2]\n",
        "    output_layer = sizes[3]\n",
        "\n",
        "    self.params = {\n",
        "        'W1':np.random.randn(hidden_1, input_layer) * np.sqrt(1./hidden_1),\n",
        "        \"W2\":np.random.randn(hidden_2, hidden_1) * np.sqrt(1./hidden_2),\n",
        "        'W3':np.random.randn(output_layer, hidden_2) * np.sqrt(1./output_layer)\n",
        "    }\n",
        "\n",
        "  def relu(self, x, derivative=False):\n",
        "        if derivative:\n",
        "            return np.where(x > 0, 1, 0)\n",
        "        return np.maximum(0, x)\n",
        "\n",
        "  def forward_pass(self, x_train):\n",
        "        params = self.params\n",
        "\n",
        "        params['A0'] = x_train\n",
        "\n",
        "        # input layer to hidden_1\n",
        "        params['Z1'] = np.dot(params['W1'], params['A0'])\n",
        "        params['A1'] = self.relu(params['Z1'])  # ReLU instead of sigmoid\n",
        "\n",
        "        # hidden_1 to hidden_2\n",
        "        params['Z2'] = np.dot(params['W2'], params['A1'])\n",
        "        params['A2'] = self.relu(params['Z2'])  # ReLU instead of sigmoid\n",
        "\n",
        "        # hidden_2 to output_layer\n",
        "        params['Z3'] = np.dot(params['W3'], params['A2'])\n",
        "        params['A3'] = self.relu(params['Z3'])\n",
        "\n",
        "        return params['Z3']\n",
        "\n",
        "  def backward_pass (self, y_train, output):\n",
        "    params = self.params\n",
        "\n",
        "    change_w = {}\n",
        "\n",
        "    # calculate W3 update\n",
        "    error = 2 * (output - y_train) / output.shape [0] * self.relu(params['Z3'], derivative=True)\n",
        "    change_w['W3'] = np.outer(error, params['A2'])\n",
        "\n",
        "    #calculate W2 update\n",
        "    error = np.dot(params['W3'].T, error) * self.relu(params['Z2'], derivative=True)\n",
        "    change_w['W2'] = np.outer(error, params['A1'])\n",
        "\n",
        "    # calculate W1 update\n",
        "    error = np.dot(params['W2'].T, error) * self.relu(params['Z1'], derivative=True)  # ReLU derivative\n",
        "    change_w['W1'] = np.outer(error, params['A0'])\n",
        "\n",
        "\n",
        "    return change_w\n",
        "\n",
        "  def update_weights(self, change_w):\n",
        "    for key, val in change_w.items():\n",
        "      self.params[key] -= self.lr * val\n",
        "\n",
        "  def compute_accuracy (self, test_data):\n",
        "    predictions = []\n",
        "    for x in test_data:\n",
        "      values = x.split(\",\")\n",
        "      inputs = (np.asfarray(values [1:])/ 255.0 * 0.99) + 0.01\n",
        "      targets = np.zeros(10) + 0.01\n",
        "      targets[int(values[0])] = 0.99\n",
        "      output= self.forward_pass(inputs)\n",
        "      pred = np.argmax (output)\n",
        "      predictions.append(pred==np.argmax(targets))\n",
        "\n",
        "    return np.mean(predictions)\n",
        "\n",
        "  def train(self, train_list, test_list):\n",
        "    for i in range(self.epochs):\n",
        "      start_time = time.time()\n",
        "      for x in train_list:\n",
        "        values = x.split(\",\")\n",
        "        inputs = (np.asfarray(values[1:]) /255.0 * 0.99) + 0.01\n",
        "        targets = np.zeros (10) + 0.01\n",
        "        targets[int(values[0])] = 0.99\n",
        "        output = self.forward_pass(inputs)\n",
        "        change_w = self.backward_pass(targets, output)\n",
        "        self.update_weights (change_w)\n",
        "\n",
        "      accuracy = self.compute_accuracy(test_list)\n",
        "      print('Epoch: {0}, Time Spent: {1:.02f}s, Accuracy: {2:.2f}%'.format(i+1, time.time()-start_time, accuracy*100))\n"
      ],
      "metadata": {
        "id": "6Voqt4T1hbjc"
      },
      "execution_count": 12,
      "outputs": []
    },
    {
      "cell_type": "code",
      "source": [
        "dnn = DNN(sizes=[784, 128, 64, 10], epochs=30, lr=0.001)\n",
        "dnn.train(train_list, test_list)"
      ],
      "metadata": {
        "colab": {
          "base_uri": "https://localhost:8080/"
        },
        "id": "OvID5rZIiLmM",
        "outputId": "b1729863-7dc9-421e-d7c3-147ab3774cf9"
      },
      "execution_count": 13,
      "outputs": [
        {
          "output_type": "stream",
          "name": "stdout",
          "text": [
            "Epoch: 1, Time Spent: 68.43s, Accuracy: 63.14%\n",
            "Epoch: 2, Time Spent: 76.07s, Accuracy: 65.78%\n",
            "Epoch: 3, Time Spent: 71.10s, Accuracy: 66.55%\n",
            "Epoch: 4, Time Spent: 67.57s, Accuracy: 67.08%\n",
            "Epoch: 5, Time Spent: 65.47s, Accuracy: 67.38%\n",
            "Epoch: 6, Time Spent: 68.47s, Accuracy: 67.66%\n",
            "Epoch: 7, Time Spent: 66.66s, Accuracy: 67.88%\n",
            "Epoch: 8, Time Spent: 63.87s, Accuracy: 67.99%\n",
            "Epoch: 9, Time Spent: 68.32s, Accuracy: 68.11%\n",
            "Epoch: 10, Time Spent: 66.68s, Accuracy: 68.27%\n",
            "Epoch: 11, Time Spent: 65.85s, Accuracy: 68.37%\n",
            "Epoch: 12, Time Spent: 64.08s, Accuracy: 68.46%\n",
            "Epoch: 13, Time Spent: 66.39s, Accuracy: 68.49%\n",
            "Epoch: 14, Time Spent: 63.75s, Accuracy: 68.54%\n",
            "Epoch: 15, Time Spent: 66.06s, Accuracy: 68.57%\n",
            "Epoch: 16, Time Spent: 64.33s, Accuracy: 68.58%\n",
            "Epoch: 17, Time Spent: 65.83s, Accuracy: 68.63%\n",
            "Epoch: 18, Time Spent: 64.06s, Accuracy: 68.73%\n",
            "Epoch: 19, Time Spent: 65.54s, Accuracy: 68.76%\n",
            "Epoch: 20, Time Spent: 64.64s, Accuracy: 68.80%\n",
            "Epoch: 21, Time Spent: 68.40s, Accuracy: 68.81%\n",
            "Epoch: 22, Time Spent: 66.21s, Accuracy: 68.89%\n",
            "Epoch: 23, Time Spent: 64.01s, Accuracy: 68.92%\n",
            "Epoch: 24, Time Spent: 66.30s, Accuracy: 68.97%\n",
            "Epoch: 25, Time Spent: 64.17s, Accuracy: 69.00%\n",
            "Epoch: 26, Time Spent: 66.72s, Accuracy: 69.05%\n",
            "Epoch: 27, Time Spent: 64.02s, Accuracy: 69.10%\n",
            "Epoch: 28, Time Spent: 66.56s, Accuracy: 69.08%\n",
            "Epoch: 29, Time Spent: 70.61s, Accuracy: 69.08%\n",
            "Epoch: 30, Time Spent: 73.71s, Accuracy: 69.09%\n"
          ]
        }
      ]
    }
  ]
}